{
 "cells": [
  {
   "cell_type": "markdown",
   "metadata": {},
   "source": [
    "# Project Description\n",
    "\n",
    "## Inspiration\n",
    "In this project, I am working as an analyst for Zuber, a new ride-sharing company launching in Chicago. This project marks my first experience with SQL, a fundamental tool for managing and analyzing large datasets; parsing data from a website. Developing proficiency in SQL will be valuable in my pursuit of digital marketing and finance, where data driven decision making plays a critical role. In addition to SQL, I will leverage Python to visualize trends, analyze drop-off locations, and conduct statistical hypothesis testing. This project provides an opportunity to deepen my expertise in data analysis while furthering my hands-on experience with databases and advanced analytical techniques.\n",
    "\n",
    "## Goal \n",
    "Find patterns in the available information, understanding passenger preferences and the impact of external factors on rides.\n",
    "\n",
    "### Step 1: Parse Data (SQL)\n",
    "* Write a code to parse data on weather in Chicago in November 2017 from this website: https://practicum-content.s3.us-west-1.amazonaws.com/data-analyst-eng/moved_chicago_weather_2017.html\n",
    "\n",
    "### Step 2: Exploratory Data Analysis (SQL)\n",
    "* Find the number of taxi rides for each taxi company for November 15-16, 2017.\n",
    "* Find the number of rides for every taxi company whose name contains the words \"Yellow\" or \"Blue\" for November 1-7, 2017.\n",
    "* Find the number of rides for the two most popular taxi companies.\n",
    "\n",
    "### Step 3: Test Hypothesis - The Duration of Rides From Loop to O'Hare International Airport Changes on Rainy Saturdays (SQL)\n",
    "* Retrieve the identifiers of the O'Hare and Loop neighborhoods from the neighborhoods table.\n",
    "* For each hour, retrieve the weather condition records from the weather_records table.\n",
    "* Retrieve from the trips table all the rides that started in Loop and ended at O'Hare on a Saturday. Get the weather conditions for each ride while ignoring rides for which weather condition is not available.\n",
    "\n",
    "### Step 4: Prepare Data (Python)\n",
    "* Clean the results of my SQL datasets by handling duplicates, missing values, and correcting data types.\n",
    "\n",
    "### Step 5: Exploratory Data Analysis (Python)\n",
    "* Identify the top 10 neighborhoods in terms of drop-offs.\n",
    "* Make graphs: taxi companies and number of rides, top 10 neighborhoods by number of dropoffs.\n",
    "* Draw conclusions based on each graph and explain results.\n",
    "\n",
    "### Step 6: Testing Hypotheses (Python)\n",
    "* \"The average duration of rides from the Loop to O'Hare International Airport changes on rainy Saturdays.\" Explaining how I formed the null and alternative hypotheses; what criterion I used to test the hypotheses and why.\n",
    "\n",
    "### Step 7: Write a General Conclusion"
   ]
  },
  {
   "cell_type": "markdown",
   "metadata": {},
   "source": [
    "# Importing Libraries and SQL Results"
   ]
  },
  {
   "cell_type": "code",
   "execution_count": 25,
   "metadata": {},
   "outputs": [],
   "source": [
    "import pandas as pd"
   ]
  },
  {
   "cell_type": "code",
   "execution_count": 26,
   "metadata": {},
   "outputs": [],
   "source": [
    "import numpy as np"
   ]
  },
  {
   "cell_type": "code",
   "execution_count": 27,
   "metadata": {},
   "outputs": [],
   "source": [
    "import scipy as st"
   ]
  },
  {
   "cell_type": "code",
   "execution_count": 28,
   "metadata": {},
   "outputs": [],
   "source": [
    "import statistics"
   ]
  },
  {
   "cell_type": "code",
   "execution_count": 29,
   "metadata": {},
   "outputs": [],
   "source": [
    "import matplotlib.pyplot as plt"
   ]
  },
  {
   "cell_type": "code",
   "execution_count": 30,
   "metadata": {},
   "outputs": [],
   "source": [
    "import seaborn as sns"
   ]
  },
  {
   "cell_type": "code",
   "execution_count": 31,
   "metadata": {},
   "outputs": [],
   "source": [
    "import re"
   ]
  },
  {
   "cell_type": "code",
   "execution_count": 32,
   "metadata": {},
   "outputs": [],
   "source": [
    "company_data = pd.read_csv('moved_project_sql_result_01.csv')"
   ]
  },
  {
   "cell_type": "code",
   "execution_count": 33,
   "metadata": {},
   "outputs": [],
   "source": [
    "dropoff_data = pd.read_csv('moved_project_sql_result_04.csv')"
   ]
  },
  {
   "cell_type": "code",
   "execution_count": 34,
   "metadata": {},
   "outputs": [],
   "source": [
    "loop_ohare_airport = pd.read_csv('moved_project_sql_result_07.csv')"
   ]
  },
  {
   "cell_type": "markdown",
   "metadata": {},
   "source": [
    "Creating function to look over data"
   ]
  },
  {
   "cell_type": "code",
   "execution_count": 36,
   "metadata": {},
   "outputs": [],
   "source": [
    "def analyze(df):\n",
    "    display(df.head())\n",
    "    print(' ')\n",
    "    print(df.info())\n",
    "    print('---------------------------')\n",
    "    print(' ')\n",
    "    print('Potential Duplicates')\n",
    "    print(' ')\n",
    "    print(df.duplicated().sum())\n",
    "    print('---------------------------')\n",
    "    print(' ')\n",
    "    print('Potential Missing Values')\n",
    "    print(' ')\n",
    "    print(df.isna().sum())"
   ]
  },
  {
   "cell_type": "markdown",
   "metadata": {},
   "source": [
    "# Preparing Data"
   ]
  },
  {
   "cell_type": "code",
   "execution_count": 38,
   "metadata": {},
   "outputs": [
    {
     "data": {
      "text/html": [
       "<div>\n",
       "<style scoped>\n",
       "    .dataframe tbody tr th:only-of-type {\n",
       "        vertical-align: middle;\n",
       "    }\n",
       "\n",
       "    .dataframe tbody tr th {\n",
       "        vertical-align: top;\n",
       "    }\n",
       "\n",
       "    .dataframe thead th {\n",
       "        text-align: right;\n",
       "    }\n",
       "</style>\n",
       "<table border=\"1\" class=\"dataframe\">\n",
       "  <thead>\n",
       "    <tr style=\"text-align: right;\">\n",
       "      <th></th>\n",
       "      <th>company_name</th>\n",
       "      <th>trips_amount</th>\n",
       "    </tr>\n",
       "  </thead>\n",
       "  <tbody>\n",
       "    <tr>\n",
       "      <th>0</th>\n",
       "      <td>Flash Cab</td>\n",
       "      <td>19558</td>\n",
       "    </tr>\n",
       "    <tr>\n",
       "      <th>1</th>\n",
       "      <td>Taxi Affiliation Services</td>\n",
       "      <td>11422</td>\n",
       "    </tr>\n",
       "    <tr>\n",
       "      <th>2</th>\n",
       "      <td>Medallion Leasin</td>\n",
       "      <td>10367</td>\n",
       "    </tr>\n",
       "    <tr>\n",
       "      <th>3</th>\n",
       "      <td>Yellow Cab</td>\n",
       "      <td>9888</td>\n",
       "    </tr>\n",
       "    <tr>\n",
       "      <th>4</th>\n",
       "      <td>Taxi Affiliation Service Yellow</td>\n",
       "      <td>9299</td>\n",
       "    </tr>\n",
       "  </tbody>\n",
       "</table>\n",
       "</div>"
      ],
      "text/plain": [
       "                      company_name  trips_amount\n",
       "0                        Flash Cab         19558\n",
       "1        Taxi Affiliation Services         11422\n",
       "2                 Medallion Leasin         10367\n",
       "3                       Yellow Cab          9888\n",
       "4  Taxi Affiliation Service Yellow          9299"
      ]
     },
     "metadata": {},
     "output_type": "display_data"
    },
    {
     "name": "stdout",
     "output_type": "stream",
     "text": [
      " \n",
      "<class 'pandas.core.frame.DataFrame'>\n",
      "RangeIndex: 64 entries, 0 to 63\n",
      "Data columns (total 2 columns):\n",
      " #   Column        Non-Null Count  Dtype \n",
      "---  ------        --------------  ----- \n",
      " 0   company_name  64 non-null     object\n",
      " 1   trips_amount  64 non-null     int64 \n",
      "dtypes: int64(1), object(1)\n",
      "memory usage: 1.1+ KB\n",
      "None\n",
      "---------------------------\n",
      " \n",
      "Potential Duplicates\n",
      " \n",
      "0\n",
      "---------------------------\n",
      " \n",
      "Potential Missing Values\n",
      " \n",
      "company_name    0\n",
      "trips_amount    0\n",
      "dtype: int64\n"
     ]
    }
   ],
   "source": [
    "analyze(company_data)"
   ]
  },
  {
   "cell_type": "code",
   "execution_count": 39,
   "metadata": {},
   "outputs": [
    {
     "data": {
      "text/html": [
       "<div>\n",
       "<style scoped>\n",
       "    .dataframe tbody tr th:only-of-type {\n",
       "        vertical-align: middle;\n",
       "    }\n",
       "\n",
       "    .dataframe tbody tr th {\n",
       "        vertical-align: top;\n",
       "    }\n",
       "\n",
       "    .dataframe thead th {\n",
       "        text-align: right;\n",
       "    }\n",
       "</style>\n",
       "<table border=\"1\" class=\"dataframe\">\n",
       "  <thead>\n",
       "    <tr style=\"text-align: right;\">\n",
       "      <th></th>\n",
       "      <th>company_name</th>\n",
       "      <th>trips_amount</th>\n",
       "    </tr>\n",
       "  </thead>\n",
       "  <tbody>\n",
       "    <tr>\n",
       "      <th>0</th>\n",
       "      <td>Flash Cab</td>\n",
       "      <td>19558</td>\n",
       "    </tr>\n",
       "    <tr>\n",
       "      <th>1</th>\n",
       "      <td>Taxi Affiliation Services</td>\n",
       "      <td>11422</td>\n",
       "    </tr>\n",
       "    <tr>\n",
       "      <th>2</th>\n",
       "      <td>Medallion Leasin</td>\n",
       "      <td>10367</td>\n",
       "    </tr>\n",
       "    <tr>\n",
       "      <th>3</th>\n",
       "      <td>Yellow Cab</td>\n",
       "      <td>9888</td>\n",
       "    </tr>\n",
       "    <tr>\n",
       "      <th>4</th>\n",
       "      <td>Taxi Affiliation Service Yellow</td>\n",
       "      <td>9299</td>\n",
       "    </tr>\n",
       "    <tr>\n",
       "      <th>...</th>\n",
       "      <td>...</td>\n",
       "      <td>...</td>\n",
       "    </tr>\n",
       "    <tr>\n",
       "      <th>59</th>\n",
       "      <td>4053 - 40193 Adwar H. Nikola</td>\n",
       "      <td>7</td>\n",
       "    </tr>\n",
       "    <tr>\n",
       "      <th>60</th>\n",
       "      <td>2733 - 74600 Benny Jona</td>\n",
       "      <td>7</td>\n",
       "    </tr>\n",
       "    <tr>\n",
       "      <th>61</th>\n",
       "      <td>5874 - 73628 Sergey Cab Corp.</td>\n",
       "      <td>5</td>\n",
       "    </tr>\n",
       "    <tr>\n",
       "      <th>62</th>\n",
       "      <td>2241 - 44667 - Felman Corp, Manuel Alonso</td>\n",
       "      <td>3</td>\n",
       "    </tr>\n",
       "    <tr>\n",
       "      <th>63</th>\n",
       "      <td>3556 - 36214 RC Andrews Cab</td>\n",
       "      <td>2</td>\n",
       "    </tr>\n",
       "  </tbody>\n",
       "</table>\n",
       "<p>64 rows × 2 columns</p>\n",
       "</div>"
      ],
      "text/plain": [
       "                                 company_name  trips_amount\n",
       "0                                   Flash Cab         19558\n",
       "1                   Taxi Affiliation Services         11422\n",
       "2                            Medallion Leasin         10367\n",
       "3                                  Yellow Cab          9888\n",
       "4             Taxi Affiliation Service Yellow          9299\n",
       "..                                        ...           ...\n",
       "59               4053 - 40193 Adwar H. Nikola             7\n",
       "60                    2733 - 74600 Benny Jona             7\n",
       "61              5874 - 73628 Sergey Cab Corp.             5\n",
       "62  2241 - 44667 - Felman Corp, Manuel Alonso             3\n",
       "63                3556 - 36214 RC Andrews Cab             2\n",
       "\n",
       "[64 rows x 2 columns]"
      ]
     },
     "execution_count": 39,
     "metadata": {},
     "output_type": "execute_result"
    }
   ],
   "source": [
    "company_data"
   ]
  },
  {
   "cell_type": "markdown",
   "metadata": {},
   "source": [
    "## Dataset Observations\n",
    "This dataset has 2 columns with 64 entries, there are no duplicates or missing values and the data types are correct. The dataset does have number groups with a hyphen between them.\n",
    "\n",
    "Dataset Corrections \n",
    "- Using Re, the number groups and hyphens will be removed so the name is whats left."
   ]
  },
  {
   "cell_type": "code",
   "execution_count": 41,
   "metadata": {},
   "outputs": [],
   "source": [
    "company_data['company_name'] = company_data['company_name'].apply(lambda x: re.sub(r'\\d+\\s*-\\s*\\d+|\\b\\d{3,}\\b|-', '', x))"
   ]
  },
  {
   "cell_type": "code",
   "execution_count": 42,
   "metadata": {},
   "outputs": [
    {
     "data": {
      "text/html": [
       "<div>\n",
       "<style scoped>\n",
       "    .dataframe tbody tr th:only-of-type {\n",
       "        vertical-align: middle;\n",
       "    }\n",
       "\n",
       "    .dataframe tbody tr th {\n",
       "        vertical-align: top;\n",
       "    }\n",
       "\n",
       "    .dataframe thead th {\n",
       "        text-align: right;\n",
       "    }\n",
       "</style>\n",
       "<table border=\"1\" class=\"dataframe\">\n",
       "  <thead>\n",
       "    <tr style=\"text-align: right;\">\n",
       "      <th></th>\n",
       "      <th>company_name</th>\n",
       "      <th>trips_amount</th>\n",
       "    </tr>\n",
       "  </thead>\n",
       "  <tbody>\n",
       "    <tr>\n",
       "      <th>0</th>\n",
       "      <td>Flash Cab</td>\n",
       "      <td>19558</td>\n",
       "    </tr>\n",
       "    <tr>\n",
       "      <th>1</th>\n",
       "      <td>Taxi Affiliation Services</td>\n",
       "      <td>11422</td>\n",
       "    </tr>\n",
       "    <tr>\n",
       "      <th>2</th>\n",
       "      <td>Medallion Leasin</td>\n",
       "      <td>10367</td>\n",
       "    </tr>\n",
       "    <tr>\n",
       "      <th>3</th>\n",
       "      <td>Yellow Cab</td>\n",
       "      <td>9888</td>\n",
       "    </tr>\n",
       "    <tr>\n",
       "      <th>4</th>\n",
       "      <td>Taxi Affiliation Service Yellow</td>\n",
       "      <td>9299</td>\n",
       "    </tr>\n",
       "    <tr>\n",
       "      <th>...</th>\n",
       "      <td>...</td>\n",
       "      <td>...</td>\n",
       "    </tr>\n",
       "    <tr>\n",
       "      <th>59</th>\n",
       "      <td>Adwar H. Nikola</td>\n",
       "      <td>7</td>\n",
       "    </tr>\n",
       "    <tr>\n",
       "      <th>60</th>\n",
       "      <td>Benny Jona</td>\n",
       "      <td>7</td>\n",
       "    </tr>\n",
       "    <tr>\n",
       "      <th>61</th>\n",
       "      <td>Sergey Cab Corp.</td>\n",
       "      <td>5</td>\n",
       "    </tr>\n",
       "    <tr>\n",
       "      <th>62</th>\n",
       "      <td>Felman Corp, Manuel Alonso</td>\n",
       "      <td>3</td>\n",
       "    </tr>\n",
       "    <tr>\n",
       "      <th>63</th>\n",
       "      <td>RC Andrews Cab</td>\n",
       "      <td>2</td>\n",
       "    </tr>\n",
       "  </tbody>\n",
       "</table>\n",
       "<p>64 rows × 2 columns</p>\n",
       "</div>"
      ],
      "text/plain": [
       "                       company_name  trips_amount\n",
       "0                         Flash Cab         19558\n",
       "1         Taxi Affiliation Services         11422\n",
       "2                  Medallion Leasin         10367\n",
       "3                        Yellow Cab          9888\n",
       "4   Taxi Affiliation Service Yellow          9299\n",
       "..                              ...           ...\n",
       "59                  Adwar H. Nikola             7\n",
       "60                       Benny Jona             7\n",
       "61                 Sergey Cab Corp.             5\n",
       "62       Felman Corp, Manuel Alonso             3\n",
       "63                   RC Andrews Cab             2\n",
       "\n",
       "[64 rows x 2 columns]"
      ]
     },
     "execution_count": 42,
     "metadata": {},
     "output_type": "execute_result"
    }
   ],
   "source": [
    "company_data"
   ]
  },
  {
   "cell_type": "code",
   "execution_count": 43,
   "metadata": {},
   "outputs": [
    {
     "data": {
      "text/html": [
       "<div>\n",
       "<style scoped>\n",
       "    .dataframe tbody tr th:only-of-type {\n",
       "        vertical-align: middle;\n",
       "    }\n",
       "\n",
       "    .dataframe tbody tr th {\n",
       "        vertical-align: top;\n",
       "    }\n",
       "\n",
       "    .dataframe thead th {\n",
       "        text-align: right;\n",
       "    }\n",
       "</style>\n",
       "<table border=\"1\" class=\"dataframe\">\n",
       "  <thead>\n",
       "    <tr style=\"text-align: right;\">\n",
       "      <th></th>\n",
       "      <th>dropoff_location_name</th>\n",
       "      <th>average_trips</th>\n",
       "    </tr>\n",
       "  </thead>\n",
       "  <tbody>\n",
       "    <tr>\n",
       "      <th>0</th>\n",
       "      <td>Loop</td>\n",
       "      <td>10727.466667</td>\n",
       "    </tr>\n",
       "    <tr>\n",
       "      <th>1</th>\n",
       "      <td>River North</td>\n",
       "      <td>9523.666667</td>\n",
       "    </tr>\n",
       "    <tr>\n",
       "      <th>2</th>\n",
       "      <td>Streeterville</td>\n",
       "      <td>6664.666667</td>\n",
       "    </tr>\n",
       "    <tr>\n",
       "      <th>3</th>\n",
       "      <td>West Loop</td>\n",
       "      <td>5163.666667</td>\n",
       "    </tr>\n",
       "    <tr>\n",
       "      <th>4</th>\n",
       "      <td>O'Hare</td>\n",
       "      <td>2546.900000</td>\n",
       "    </tr>\n",
       "  </tbody>\n",
       "</table>\n",
       "</div>"
      ],
      "text/plain": [
       "  dropoff_location_name  average_trips\n",
       "0                  Loop   10727.466667\n",
       "1           River North    9523.666667\n",
       "2         Streeterville    6664.666667\n",
       "3             West Loop    5163.666667\n",
       "4                O'Hare    2546.900000"
      ]
     },
     "metadata": {},
     "output_type": "display_data"
    },
    {
     "name": "stdout",
     "output_type": "stream",
     "text": [
      " \n",
      "<class 'pandas.core.frame.DataFrame'>\n",
      "RangeIndex: 94 entries, 0 to 93\n",
      "Data columns (total 2 columns):\n",
      " #   Column                 Non-Null Count  Dtype  \n",
      "---  ------                 --------------  -----  \n",
      " 0   dropoff_location_name  94 non-null     object \n",
      " 1   average_trips          94 non-null     float64\n",
      "dtypes: float64(1), object(1)\n",
      "memory usage: 1.6+ KB\n",
      "None\n",
      "---------------------------\n",
      " \n",
      "Potential Duplicates\n",
      " \n",
      "0\n",
      "---------------------------\n",
      " \n",
      "Potential Missing Values\n",
      " \n",
      "dropoff_location_name    0\n",
      "average_trips            0\n",
      "dtype: int64\n"
     ]
    }
   ],
   "source": [
    "analyze(dropoff_data)"
   ]
  },
  {
   "cell_type": "markdown",
   "metadata": {},
   "source": [
    "## Dataset Observations\n",
    "This dataset has 2 columns with 94 entries, there are no duplicates or missing values and the data types are correct. The dataset is clean."
   ]
  },
  {
   "cell_type": "code",
   "execution_count": 45,
   "metadata": {},
   "outputs": [
    {
     "data": {
      "text/html": [
       "<div>\n",
       "<style scoped>\n",
       "    .dataframe tbody tr th:only-of-type {\n",
       "        vertical-align: middle;\n",
       "    }\n",
       "\n",
       "    .dataframe tbody tr th {\n",
       "        vertical-align: top;\n",
       "    }\n",
       "\n",
       "    .dataframe thead th {\n",
       "        text-align: right;\n",
       "    }\n",
       "</style>\n",
       "<table border=\"1\" class=\"dataframe\">\n",
       "  <thead>\n",
       "    <tr style=\"text-align: right;\">\n",
       "      <th></th>\n",
       "      <th>start_ts</th>\n",
       "      <th>weather_conditions</th>\n",
       "      <th>duration_seconds</th>\n",
       "    </tr>\n",
       "  </thead>\n",
       "  <tbody>\n",
       "    <tr>\n",
       "      <th>0</th>\n",
       "      <td>2017-11-25 16:00:00</td>\n",
       "      <td>Good</td>\n",
       "      <td>2410.0</td>\n",
       "    </tr>\n",
       "    <tr>\n",
       "      <th>1</th>\n",
       "      <td>2017-11-25 14:00:00</td>\n",
       "      <td>Good</td>\n",
       "      <td>1920.0</td>\n",
       "    </tr>\n",
       "    <tr>\n",
       "      <th>2</th>\n",
       "      <td>2017-11-25 12:00:00</td>\n",
       "      <td>Good</td>\n",
       "      <td>1543.0</td>\n",
       "    </tr>\n",
       "    <tr>\n",
       "      <th>3</th>\n",
       "      <td>2017-11-04 10:00:00</td>\n",
       "      <td>Good</td>\n",
       "      <td>2512.0</td>\n",
       "    </tr>\n",
       "    <tr>\n",
       "      <th>4</th>\n",
       "      <td>2017-11-11 07:00:00</td>\n",
       "      <td>Good</td>\n",
       "      <td>1440.0</td>\n",
       "    </tr>\n",
       "  </tbody>\n",
       "</table>\n",
       "</div>"
      ],
      "text/plain": [
       "              start_ts weather_conditions  duration_seconds\n",
       "0  2017-11-25 16:00:00               Good            2410.0\n",
       "1  2017-11-25 14:00:00               Good            1920.0\n",
       "2  2017-11-25 12:00:00               Good            1543.0\n",
       "3  2017-11-04 10:00:00               Good            2512.0\n",
       "4  2017-11-11 07:00:00               Good            1440.0"
      ]
     },
     "metadata": {},
     "output_type": "display_data"
    },
    {
     "name": "stdout",
     "output_type": "stream",
     "text": [
      " \n",
      "<class 'pandas.core.frame.DataFrame'>\n",
      "RangeIndex: 1068 entries, 0 to 1067\n",
      "Data columns (total 3 columns):\n",
      " #   Column              Non-Null Count  Dtype  \n",
      "---  ------              --------------  -----  \n",
      " 0   start_ts            1068 non-null   object \n",
      " 1   weather_conditions  1068 non-null   object \n",
      " 2   duration_seconds    1068 non-null   float64\n",
      "dtypes: float64(1), object(2)\n",
      "memory usage: 25.2+ KB\n",
      "None\n",
      "---------------------------\n",
      " \n",
      "Potential Duplicates\n",
      " \n",
      "197\n",
      "---------------------------\n",
      " \n",
      "Potential Missing Values\n",
      " \n",
      "start_ts              0\n",
      "weather_conditions    0\n",
      "duration_seconds      0\n",
      "dtype: int64\n"
     ]
    }
   ],
   "source": [
    "analyze(loop_ohare_airport)"
   ]
  },
  {
   "cell_type": "markdown",
   "metadata": {},
   "source": [
    "## Dataset Observations\n",
    "loop_ohare_airport dataset has 3 columns with 1,068 entries, there are no missing values but 197 duplicates. The start_ts column has an incorrect datatype of object which should be datetime. duration_seconds may not need to be float data type.\n",
    "\n",
    "Dataset Corrections \n",
    "* Remove duplicates \n",
    "* Change start_ts column data type to datetime\n",
    "* If duration_seconds column doesn't need to be float, will be changed to int data type"
   ]
  },
  {
   "cell_type": "code",
   "execution_count": 47,
   "metadata": {},
   "outputs": [],
   "source": [
    "loop_ohare_airport = loop_ohare_airport.drop_duplicates() # dropping duplicates"
   ]
  },
  {
   "cell_type": "code",
   "execution_count": 48,
   "metadata": {},
   "outputs": [],
   "source": [
    "loop_ohare_airport['start_ts'] = pd.to_datetime(loop_ohare_airport['start_ts'], errors = 'coerce') # Changing column to datetime data type"
   ]
  },
  {
   "cell_type": "code",
   "execution_count": 49,
   "metadata": {},
   "outputs": [
    {
     "data": {
      "text/plain": [
       "0"
      ]
     },
     "execution_count": 49,
     "metadata": {},
     "output_type": "execute_result"
    }
   ],
   "source": [
    "(loop_ohare_airport['duration_seconds'] % 1 != 0).sum() # Checking to see if column has any decimal value besides 0"
   ]
  },
  {
   "cell_type": "code",
   "execution_count": 50,
   "metadata": {},
   "outputs": [],
   "source": [
    "loop_ohare_airport['duration_seconds'] = loop_ohare_airport['duration_seconds'].astype(int) # Changing column to int data type"
   ]
  },
  {
   "cell_type": "code",
   "execution_count": 51,
   "metadata": {},
   "outputs": [
    {
     "data": {
      "text/html": [
       "<div>\n",
       "<style scoped>\n",
       "    .dataframe tbody tr th:only-of-type {\n",
       "        vertical-align: middle;\n",
       "    }\n",
       "\n",
       "    .dataframe tbody tr th {\n",
       "        vertical-align: top;\n",
       "    }\n",
       "\n",
       "    .dataframe thead th {\n",
       "        text-align: right;\n",
       "    }\n",
       "</style>\n",
       "<table border=\"1\" class=\"dataframe\">\n",
       "  <thead>\n",
       "    <tr style=\"text-align: right;\">\n",
       "      <th></th>\n",
       "      <th>start_ts</th>\n",
       "      <th>weather_conditions</th>\n",
       "      <th>duration_seconds</th>\n",
       "    </tr>\n",
       "  </thead>\n",
       "  <tbody>\n",
       "    <tr>\n",
       "      <th>0</th>\n",
       "      <td>2017-11-25 16:00:00</td>\n",
       "      <td>Good</td>\n",
       "      <td>2410</td>\n",
       "    </tr>\n",
       "    <tr>\n",
       "      <th>1</th>\n",
       "      <td>2017-11-25 14:00:00</td>\n",
       "      <td>Good</td>\n",
       "      <td>1920</td>\n",
       "    </tr>\n",
       "    <tr>\n",
       "      <th>2</th>\n",
       "      <td>2017-11-25 12:00:00</td>\n",
       "      <td>Good</td>\n",
       "      <td>1543</td>\n",
       "    </tr>\n",
       "    <tr>\n",
       "      <th>3</th>\n",
       "      <td>2017-11-04 10:00:00</td>\n",
       "      <td>Good</td>\n",
       "      <td>2512</td>\n",
       "    </tr>\n",
       "    <tr>\n",
       "      <th>4</th>\n",
       "      <td>2017-11-11 07:00:00</td>\n",
       "      <td>Good</td>\n",
       "      <td>1440</td>\n",
       "    </tr>\n",
       "  </tbody>\n",
       "</table>\n",
       "</div>"
      ],
      "text/plain": [
       "             start_ts weather_conditions  duration_seconds\n",
       "0 2017-11-25 16:00:00               Good              2410\n",
       "1 2017-11-25 14:00:00               Good              1920\n",
       "2 2017-11-25 12:00:00               Good              1543\n",
       "3 2017-11-04 10:00:00               Good              2512\n",
       "4 2017-11-11 07:00:00               Good              1440"
      ]
     },
     "metadata": {},
     "output_type": "display_data"
    },
    {
     "name": "stdout",
     "output_type": "stream",
     "text": [
      " \n",
      "<class 'pandas.core.frame.DataFrame'>\n",
      "Index: 871 entries, 0 to 1067\n",
      "Data columns (total 3 columns):\n",
      " #   Column              Non-Null Count  Dtype         \n",
      "---  ------              --------------  -----         \n",
      " 0   start_ts            871 non-null    datetime64[ns]\n",
      " 1   weather_conditions  871 non-null    object        \n",
      " 2   duration_seconds    871 non-null    int32         \n",
      "dtypes: datetime64[ns](1), int32(1), object(1)\n",
      "memory usage: 23.8+ KB\n",
      "None\n",
      "---------------------------\n",
      " \n",
      "Potential Duplicates\n",
      " \n",
      "0\n",
      "---------------------------\n",
      " \n",
      "Potential Missing Values\n",
      " \n",
      "start_ts              0\n",
      "weather_conditions    0\n",
      "duration_seconds      0\n",
      "dtype: int64\n"
     ]
    }
   ],
   "source": [
    "analyze(loop_ohare_airport) # Verifying changes"
   ]
  },
  {
   "cell_type": "markdown",
   "metadata": {},
   "source": [
    "# EDA"
   ]
  },
  {
   "cell_type": "markdown",
   "metadata": {},
   "source": [
    "Identifying top 10 neighborhoods in terms of dropoff."
   ]
  },
  {
   "cell_type": "code",
   "execution_count": 54,
   "metadata": {},
   "outputs": [
    {
     "data": {
      "text/html": [
       "<div>\n",
       "<style scoped>\n",
       "    .dataframe tbody tr th:only-of-type {\n",
       "        vertical-align: middle;\n",
       "    }\n",
       "\n",
       "    .dataframe tbody tr th {\n",
       "        vertical-align: top;\n",
       "    }\n",
       "\n",
       "    .dataframe thead th {\n",
       "        text-align: right;\n",
       "    }\n",
       "</style>\n",
       "<table border=\"1\" class=\"dataframe\">\n",
       "  <thead>\n",
       "    <tr style=\"text-align: right;\">\n",
       "      <th></th>\n",
       "      <th>dropoff_location_name</th>\n",
       "      <th>average_trips</th>\n",
       "    </tr>\n",
       "  </thead>\n",
       "  <tbody>\n",
       "    <tr>\n",
       "      <th>0</th>\n",
       "      <td>Loop</td>\n",
       "      <td>10727.466667</td>\n",
       "    </tr>\n",
       "    <tr>\n",
       "      <th>1</th>\n",
       "      <td>River North</td>\n",
       "      <td>9523.666667</td>\n",
       "    </tr>\n",
       "    <tr>\n",
       "      <th>2</th>\n",
       "      <td>Streeterville</td>\n",
       "      <td>6664.666667</td>\n",
       "    </tr>\n",
       "    <tr>\n",
       "      <th>3</th>\n",
       "      <td>West Loop</td>\n",
       "      <td>5163.666667</td>\n",
       "    </tr>\n",
       "    <tr>\n",
       "      <th>4</th>\n",
       "      <td>O'Hare</td>\n",
       "      <td>2546.900000</td>\n",
       "    </tr>\n",
       "    <tr>\n",
       "      <th>5</th>\n",
       "      <td>Lake View</td>\n",
       "      <td>2420.966667</td>\n",
       "    </tr>\n",
       "    <tr>\n",
       "      <th>6</th>\n",
       "      <td>Grant Park</td>\n",
       "      <td>2068.533333</td>\n",
       "    </tr>\n",
       "    <tr>\n",
       "      <th>7</th>\n",
       "      <td>Museum Campus</td>\n",
       "      <td>1510.000000</td>\n",
       "    </tr>\n",
       "    <tr>\n",
       "      <th>8</th>\n",
       "      <td>Gold Coast</td>\n",
       "      <td>1364.233333</td>\n",
       "    </tr>\n",
       "    <tr>\n",
       "      <th>9</th>\n",
       "      <td>Sheffield &amp; DePaul</td>\n",
       "      <td>1259.766667</td>\n",
       "    </tr>\n",
       "  </tbody>\n",
       "</table>\n",
       "</div>"
      ],
      "text/plain": [
       "  dropoff_location_name  average_trips\n",
       "0                  Loop   10727.466667\n",
       "1           River North    9523.666667\n",
       "2         Streeterville    6664.666667\n",
       "3             West Loop    5163.666667\n",
       "4                O'Hare    2546.900000\n",
       "5             Lake View    2420.966667\n",
       "6            Grant Park    2068.533333\n",
       "7         Museum Campus    1510.000000\n",
       "8            Gold Coast    1364.233333\n",
       "9    Sheffield & DePaul    1259.766667"
      ]
     },
     "execution_count": 54,
     "metadata": {},
     "output_type": "execute_result"
    }
   ],
   "source": [
    "top_10_neighborhoods = dropoff_data.head(10)\n",
    "top_10_neighborhoods"
   ]
  },
  {
   "cell_type": "markdown",
   "metadata": {},
   "source": [
    "Bar chart showing taxi companies with number of rides."
   ]
  },
  {
   "cell_type": "code",
   "execution_count": 56,
   "metadata": {},
   "outputs": [
    {
     "name": "stderr",
     "output_type": "stream",
     "text": [
      "C:\\Users\\mikey\\AppData\\Local\\Temp\\ipykernel_100156\\3636726564.py:2: FutureWarning: \n",
      "\n",
      "Passing `palette` without assigning `hue` is deprecated and will be removed in v0.14.0. Assign the `y` variable to `hue` and set `legend=False` for the same effect.\n",
      "\n",
      "  sns.barplot(data = company_data, y = 'company_name', x = 'trips_amount', palette = 'viridis')\n"
     ]
    },
    {
     "data": {
      "text/plain": [
       "Text(0.5, 0, 'Trips Amount')"
      ]
     },
     "execution_count": 56,
     "metadata": {},
     "output_type": "execute_result"
    },
    {
     "data": {
      "image/png": "[encoded data removed]",
      "text/plain": [
       "<Figure size 1200x1600 with 1 Axes>"
      ]
     },
     "metadata": {},
     "output_type": "display_data"
    }
   ],
   "source": [
    "plt.figure(figsize = (12,16))\n",
    "sns.barplot(data = company_data, y = 'company_name', x = 'trips_amount', palette = 'viridis')\n",
    "plt.title('Amount of Rides per Taxi Company', fontsize = 14)\n",
    "plt.ylabel('Company Name')\n",
    "plt.xlabel('Trips Amount')"
   ]
  },
  {
   "cell_type": "markdown",
   "metadata": {},
   "source": [
    "Top 10 taxi company rides to avoid clutter of insignificant companies."
   ]
  },
  {
   "cell_type": "code",
   "execution_count": 58,
   "metadata": {},
   "outputs": [
    {
     "name": "stderr",
     "output_type": "stream",
     "text": [
      "C:\\Users\\mikey\\AppData\\Local\\Temp\\ipykernel_100156\\2613675974.py:2: FutureWarning: \n",
      "\n",
      "Passing `palette` without assigning `hue` is deprecated and will be removed in v0.14.0. Assign the `y` variable to `hue` and set `legend=False` for the same effect.\n",
      "\n",
      "  sns.barplot(data = company_data.head(10), y = 'company_name', x = 'trips_amount', palette = 'viridis')\n"
     ]
    },
    {
     "data": {
      "text/plain": [
       "Text(0.5, 0, 'Trips Amount')"
      ]
     },
     "execution_count": 58,
     "metadata": {},
     "output_type": "execute_result"
    },
    {
     "data": {
      "image/png": "[encoded data removed]",
      "text/plain": [
       "<Figure size 1200x600 with 1 Axes>"
      ]
     },
     "metadata": {},
     "output_type": "display_data"
    }
   ],
   "source": [
    "plt.figure(figsize = (12,6))\n",
    "sns.barplot(data = company_data.head(10), y = 'company_name', x = 'trips_amount', palette = 'viridis')\n",
    "plt.title('Amount of Rides per Taxi Company', fontsize = 14)\n",
    "plt.ylabel('Company Name')\n",
    "plt.xlabel('Trips Amount')"
   ]
  },
  {
   "cell_type": "markdown",
   "metadata": {},
   "source": [
    "Pie chart for top 10 neighborhoods."
   ]
  },
  {
   "cell_type": "code",
   "execution_count": 60,
   "metadata": {},
   "outputs": [
    {
     "data": {
      "text/plain": [
       "Text(0.5, 1.0, 'Distribution of Top 10 neighborhoods')"
      ]
     },
     "execution_count": 60,
     "metadata": {},
     "output_type": "execute_result"
    },
    {
     "data": {
      "image/png": "[encoded data removed]",
      "text/plain": [
       "<Figure size 1000x600 with 1 Axes>"
      ]
     },
     "metadata": {},
     "output_type": "display_data"
    }
   ],
   "source": [
    "plt.figure(figsize = (10,6))\n",
    "plt.pie(top_10_neighborhoods['average_trips'], labels = top_10_neighborhoods['dropoff_location_name'], autopct='%1.1f%%', startangle=140, wedgeprops={'edgecolor': 'black'})\n",
    "plt.title('Distribution of Top 10 neighborhoods')"
   ]
  },
  {
   "cell_type": "markdown",
   "metadata": {},
   "source": [
    "EDA Conclusions: \n",
    "Riders prefer to use Flash Cab and mostly get droped off at Loop and River North.\n",
    "\n",
    "Taxi Company Popularity: \n",
    "* Flash Cab dominates the ride-sharing market with nearly 20,000 trips, significantly outperforming competitors. The next closest company, Taxi Affiliation Services, has nearly half as many trips, suggesting that Flash Cab holds a strong competitive advantage. The remaining companies contribute comparatively fewer trips, reinforcing the concentration of market share among a few key players.\n",
    "\n",
    "Drop-off Location Trends:\n",
    "\n",
    "* Loop (24.8%) emerges as the most frequent destination, indicating it is a key hub for riders.\n",
    "* River North (22%) follows closely.\n",
    "* Streeterville (15.4%) and West Loop (11.9%) are also notable, but all other neighborhoods make up a much smaller share of trips."
   ]
  },
  {
   "cell_type": "markdown",
   "metadata": {},
   "source": [
    "# Testing Hypothesis"
   ]
  },
  {
   "cell_type": "markdown",
   "metadata": {},
   "source": [
    "Hypothesis: The average duration of rides from the Loop to O'Hare International Airport changes on rainy Saturdays.\n",
    "\n",
    "Null Hypothesis: The average duration of rides does not change on rainy Saturdays.\n",
    "\n",
    "Alternate Hypothesis: The average duration of rides does change on rainy Saturdays."
   ]
  },
  {
   "cell_type": "markdown",
   "metadata": {},
   "source": [
    "Seperating data into 2 groups of rainy Saturdays and non rainy Saturdays"
   ]
  },
  {
   "cell_type": "code",
   "execution_count": 65,
   "metadata": {},
   "outputs": [
    {
     "data": {
      "text/html": [
       "<div>\n",
       "<style scoped>\n",
       "    .dataframe tbody tr th:only-of-type {\n",
       "        vertical-align: middle;\n",
       "    }\n",
       "\n",
       "    .dataframe tbody tr th {\n",
       "        vertical-align: top;\n",
       "    }\n",
       "\n",
       "    .dataframe thead th {\n",
       "        text-align: right;\n",
       "    }\n",
       "</style>\n",
       "<table border=\"1\" class=\"dataframe\">\n",
       "  <thead>\n",
       "    <tr style=\"text-align: right;\">\n",
       "      <th></th>\n",
       "      <th>start_ts</th>\n",
       "      <th>weather_conditions</th>\n",
       "      <th>duration_seconds</th>\n",
       "    </tr>\n",
       "  </thead>\n",
       "  <tbody>\n",
       "    <tr>\n",
       "      <th>0</th>\n",
       "      <td>2017-11-25 16:00:00</td>\n",
       "      <td>Good</td>\n",
       "      <td>2410</td>\n",
       "    </tr>\n",
       "    <tr>\n",
       "      <th>1</th>\n",
       "      <td>2017-11-25 14:00:00</td>\n",
       "      <td>Good</td>\n",
       "      <td>1920</td>\n",
       "    </tr>\n",
       "    <tr>\n",
       "      <th>2</th>\n",
       "      <td>2017-11-25 12:00:00</td>\n",
       "      <td>Good</td>\n",
       "      <td>1543</td>\n",
       "    </tr>\n",
       "    <tr>\n",
       "      <th>3</th>\n",
       "      <td>2017-11-04 10:00:00</td>\n",
       "      <td>Good</td>\n",
       "      <td>2512</td>\n",
       "    </tr>\n",
       "    <tr>\n",
       "      <th>4</th>\n",
       "      <td>2017-11-11 07:00:00</td>\n",
       "      <td>Good</td>\n",
       "      <td>1440</td>\n",
       "    </tr>\n",
       "    <tr>\n",
       "      <th>...</th>\n",
       "      <td>...</td>\n",
       "      <td>...</td>\n",
       "      <td>...</td>\n",
       "    </tr>\n",
       "    <tr>\n",
       "      <th>1060</th>\n",
       "      <td>2017-11-04 14:00:00</td>\n",
       "      <td>Good</td>\n",
       "      <td>2700</td>\n",
       "    </tr>\n",
       "    <tr>\n",
       "      <th>1061</th>\n",
       "      <td>2017-11-18 16:00:00</td>\n",
       "      <td>Bad</td>\n",
       "      <td>2186</td>\n",
       "    </tr>\n",
       "    <tr>\n",
       "      <th>1063</th>\n",
       "      <td>2017-11-25 11:00:00</td>\n",
       "      <td>Good</td>\n",
       "      <td>0</td>\n",
       "    </tr>\n",
       "    <tr>\n",
       "      <th>1064</th>\n",
       "      <td>2017-11-11 10:00:00</td>\n",
       "      <td>Good</td>\n",
       "      <td>1318</td>\n",
       "    </tr>\n",
       "    <tr>\n",
       "      <th>1067</th>\n",
       "      <td>2017-11-04 16:00:00</td>\n",
       "      <td>Bad</td>\n",
       "      <td>2834</td>\n",
       "    </tr>\n",
       "  </tbody>\n",
       "</table>\n",
       "<p>871 rows × 3 columns</p>\n",
       "</div>"
      ],
      "text/plain": [
       "                start_ts weather_conditions  duration_seconds\n",
       "0    2017-11-25 16:00:00               Good              2410\n",
       "1    2017-11-25 14:00:00               Good              1920\n",
       "2    2017-11-25 12:00:00               Good              1543\n",
       "3    2017-11-04 10:00:00               Good              2512\n",
       "4    2017-11-11 07:00:00               Good              1440\n",
       "...                  ...                ...               ...\n",
       "1060 2017-11-04 14:00:00               Good              2700\n",
       "1061 2017-11-18 16:00:00                Bad              2186\n",
       "1063 2017-11-25 11:00:00               Good                 0\n",
       "1064 2017-11-11 10:00:00               Good              1318\n",
       "1067 2017-11-04 16:00:00                Bad              2834\n",
       "\n",
       "[871 rows x 3 columns]"
      ]
     },
     "execution_count": 65,
     "metadata": {},
     "output_type": "execute_result"
    }
   ],
   "source": [
    "loop_ohare_airport"
   ]
  },
  {
   "cell_type": "code",
   "execution_count": 66,
   "metadata": {},
   "outputs": [
    {
     "data": {
      "text/plain": [
       "array(['Saturday'], dtype=object)"
      ]
     },
     "execution_count": 66,
     "metadata": {},
     "output_type": "execute_result"
    }
   ],
   "source": [
    "loop_ohare_airport['start_ts'].dt.day_name().unique() # All the dates are Saturdays"
   ]
  },
  {
   "cell_type": "code",
   "execution_count": 67,
   "metadata": {},
   "outputs": [],
   "source": [
    "rainy_saturdays = loop_ohare_airport[loop_ohare_airport['weather_conditions'] == 'Bad'] # Creating rainy Saturday group"
   ]
  },
  {
   "cell_type": "code",
   "execution_count": 68,
   "metadata": {},
   "outputs": [],
   "source": [
    "non_rainy_saturdays = loop_ohare_airport[loop_ohare_airport['weather_conditions'] == 'Good'] # Creating non rainy Saturday group"
   ]
  },
  {
   "cell_type": "code",
   "execution_count": 69,
   "metadata": {},
   "outputs": [
    {
     "name": "stdout",
     "output_type": "stream",
     "text": [
      "test p-value: 9.126383933880083e-08\n",
      "Null hypothesis rejected, the average ride duration on Saturday does change due to rainy weather\n"
     ]
    }
   ],
   "source": [
    "test = st.stats.ttest_ind(rainy_saturdays['duration_seconds'], non_rainy_saturdays['duration_seconds'], equal_var = False)\n",
    "\n",
    "alpha = 0.01\n",
    "\n",
    "print(f'test p-value: {test.pvalue}')\n",
    "\n",
    "if test.pvalue < alpha:\n",
    "    print('Null hypothesis rejected, the average ride duration on Saturday does change due to rainy weather')\n",
    "else:\n",
    "    print('Null hypothesis accepted, the average ride duration on Saturday does not change due to rainy weather')"
   ]
  },
  {
   "cell_type": "markdown",
   "metadata": {},
   "source": [
    "Alpha: 0.01 was chosen, meaning there's only a 1% chance of rejecting the null hypothesis when it’s true. This is appropriate given the high accuracy of the data\n",
    "\n",
    "Hypothesis: A two-sample t-test was performed with unequal variances to compare ride durations on rainy Saturdays vs. non-rainy Saturdays. The p-value of the test tells you whether the difference between the groups is statistically significant.\n",
    "\n",
    "Why: The null hypothesis assumes no change in ride duration, and the alternative hypothesis assumed a change.\n",
    "The low p-value provides strong evidence to reject the null, concluding that rainy Saturdays do impact ride duration.\n",
    "The choice of alpha being 0.01 reflects the desire for strong confidence in the results."
   ]
  },
  {
   "cell_type": "markdown",
   "metadata": {},
   "source": [
    "# General Conclusion\n",
    "This analysis reveals several key insights into the ride-sharing market, particularly focusing on the popularity of taxi companies and the most common drop-off locations.\n",
    "\n",
    "* Taxi Company Popularity: Flash Cab is the dominant player in the market, with nearly 20,000 trips, substantially outpacing its competitors. The second-place company, Taxi Affiliation Services, has significantly fewer trips, showing a clear market leader. The other taxi companies contribute a minor portion of total rides, emphasizing Flash Cab's strong competitive advantage.\n",
    "\n",
    "* Drop-off Location Trends: The Loop (24.8%) stands out as the primary destination for riders, followed by River North (22%). Other neighborhoods like Streeterville (15.4%) and West Loop (11.9%) also account for a notable share of trips. The remaining neighborhoods have much smaller shares, underscoring the centrality of these few locations in the ride-sharing pattern.\n",
    "\n",
    "* Rainy Saturdays Hypothesis Test: A t-test was conducted to determine whether rainy Saturdays have a significant effect on ride durations. The null hypothesis, stating that ride durations do not change on rainy Saturdays, was rejected based on a p-value of 9.13e-08. This strongly suggests that the average ride duration does change on rainy Saturdays, confirming that weather conditions play a role in ride times."
   ]
  }
 ],
 "metadata": {
  "ExecuteTimeLog": [
   {
    "duration": 287,
    "start_time": "2025-03-20T20:17:56.491Z"
   },
   {
    "duration": 2,
    "start_time": "2025-03-20T20:18:15.321Z"
   },
   {
    "duration": 10,
    "start_time": "2025-03-20T20:18:21.128Z"
   },
   {
    "duration": 194,
    "start_time": "2025-03-20T20:18:39.889Z"
   },
   {
    "duration": 1802,
    "start_time": "2025-03-20T20:18:50.322Z"
   },
   {
    "duration": 401,
    "start_time": "2025-03-20T20:19:03.305Z"
   },
   {
    "duration": 10,
    "start_time": "2025-03-20T20:24:00.202Z"
   },
   {
    "duration": 9,
    "start_time": "2025-03-20T20:24:50.245Z"
   },
   {
    "duration": 8,
    "start_time": "2025-03-20T20:25:41.317Z"
   },
   {
    "duration": 15,
    "start_time": "2025-03-20T20:27:01.998Z"
   },
   {
    "duration": 16,
    "start_time": "2025-03-20T20:30:26.800Z"
   },
   {
    "duration": 8,
    "start_time": "2025-03-20T20:37:30.726Z"
   },
   {
    "duration": 6,
    "start_time": "2025-03-20T20:37:42.374Z"
   },
   {
    "duration": 53,
    "start_time": "2025-03-20T20:45:22.839Z"
   },
   {
    "duration": 510,
    "start_time": "2025-03-20T20:45:40.969Z"
   },
   {
    "duration": 46,
    "start_time": "2025-03-20T20:48:38.608Z"
   },
   {
    "duration": 24,
    "start_time": "2025-03-20T20:49:13.223Z"
   },
   {
    "duration": 300,
    "start_time": "2025-03-20T20:49:52.903Z"
   },
   {
    "duration": 2356,
    "start_time": "2025-03-20T20:55:38.100Z"
   },
   {
    "duration": 1145,
    "start_time": "2025-03-20T21:04:15.279Z"
   },
   {
    "duration": 8,
    "start_time": "2025-03-20T21:05:35.743Z"
   },
   {
    "duration": 3,
    "start_time": "2025-03-20T21:06:50.949Z"
   },
   {
    "duration": 7,
    "start_time": "2025-03-20T21:07:18.836Z"
   },
   {
    "duration": 16,
    "start_time": "2025-03-20T21:15:08.769Z"
   },
   {
    "duration": 4,
    "start_time": "2025-03-20T21:18:40.715Z"
   },
   {
    "duration": 281,
    "start_time": "2025-03-20T21:18:49.203Z"
   },
   {
    "duration": 5,
    "start_time": "2025-03-20T21:19:16.583Z"
   },
   {
    "duration": 138,
    "start_time": "2025-03-20T21:23:06.755Z"
   },
   {
    "duration": 333,
    "start_time": "2025-03-20T21:23:14.516Z"
   },
   {
    "duration": 2,
    "start_time": "2025-03-20T21:23:14.851Z"
   },
   {
    "duration": 11,
    "start_time": "2025-03-20T21:23:14.854Z"
   },
   {
    "duration": 133,
    "start_time": "2025-03-20T21:23:14.866Z"
   },
   {
    "duration": 412,
    "start_time": "2025-03-20T21:23:15.002Z"
   },
   {
    "duration": 3,
    "start_time": "2025-03-20T21:23:15.416Z"
   },
   {
    "duration": 7,
    "start_time": "2025-03-20T21:23:15.421Z"
   },
   {
    "duration": 5,
    "start_time": "2025-03-20T21:23:15.430Z"
   },
   {
    "duration": 3,
    "start_time": "2025-03-20T21:23:15.436Z"
   },
   {
    "duration": 15,
    "start_time": "2025-03-20T21:23:15.440Z"
   },
   {
    "duration": 7,
    "start_time": "2025-03-20T21:23:15.457Z"
   },
   {
    "duration": 4,
    "start_time": "2025-03-20T21:23:15.465Z"
   },
   {
    "duration": 42,
    "start_time": "2025-03-20T21:23:15.470Z"
   },
   {
    "duration": 12,
    "start_time": "2025-03-20T21:23:15.515Z"
   },
   {
    "duration": 5,
    "start_time": "2025-03-20T21:23:15.529Z"
   },
   {
    "duration": 1104,
    "start_time": "2025-03-20T21:23:15.536Z"
   },
   {
    "duration": 3,
    "start_time": "2025-03-20T21:28:55.633Z"
   },
   {
    "duration": 1081,
    "start_time": "2025-03-20T21:29:01.760Z"
   },
   {
    "duration": 303,
    "start_time": "2025-03-20T21:32:56.689Z"
   },
   {
    "duration": 3,
    "start_time": "2025-03-20T21:33:14.052Z"
   },
   {
    "duration": 1089,
    "start_time": "2025-03-20T21:33:18.748Z"
   },
   {
    "duration": 3,
    "start_time": "2025-03-20T21:33:54.621Z"
   },
   {
    "duration": 1033,
    "start_time": "2025-03-20T21:33:59.546Z"
   },
   {
    "duration": 3,
    "start_time": "2025-03-20T21:34:44.057Z"
   },
   {
    "duration": 1023,
    "start_time": "2025-03-20T21:34:48.840Z"
   },
   {
    "duration": 7,
    "start_time": "2025-03-20T21:35:23.132Z"
   },
   {
    "duration": 8,
    "start_time": "2025-03-20T21:37:12.146Z"
   },
   {
    "duration": 462,
    "start_time": "2025-03-20T21:37:24.511Z"
   },
   {
    "duration": 5,
    "start_time": "2025-03-20T21:37:32.204Z"
   },
   {
    "duration": 6,
    "start_time": "2025-03-20T21:37:46.553Z"
   },
   {
    "duration": 7,
    "start_time": "2025-03-20T21:41:26.686Z"
   },
   {
    "duration": 2,
    "start_time": "2025-03-20T21:47:10.187Z"
   },
   {
    "duration": 12,
    "start_time": "2025-03-20T21:48:31.244Z"
   },
   {
    "duration": 2,
    "start_time": "2025-03-20T21:49:02.211Z"
   },
   {
    "duration": 8,
    "start_time": "2025-03-20T21:49:17.701Z"
   },
   {
    "duration": 623,
    "start_time": "2025-03-20T21:49:46.884Z"
   },
   {
    "duration": 226,
    "start_time": "2025-03-20T22:11:35.009Z"
   },
   {
    "duration": 171,
    "start_time": "2025-03-20T22:12:22.455Z"
   },
   {
    "duration": 150,
    "start_time": "2025-03-20T22:12:29.918Z"
   },
   {
    "duration": 191,
    "start_time": "2025-03-20T22:12:39.774Z"
   },
   {
    "duration": 997,
    "start_time": "2025-03-20T22:12:58.991Z"
   },
   {
    "duration": 1041,
    "start_time": "2025-03-20T22:13:05.586Z"
   },
   {
    "duration": 289,
    "start_time": "2025-03-20T22:25:27.831Z"
   },
   {
    "duration": 313,
    "start_time": "2025-03-20T22:39:15.644Z"
   },
   {
    "duration": 12,
    "start_time": "2025-03-20T22:39:22.963Z"
   },
   {
    "duration": 14,
    "start_time": "2025-03-20T22:39:56.018Z"
   },
   {
    "duration": 322,
    "start_time": "2025-03-21T17:08:19.809Z"
   },
   {
    "duration": 3,
    "start_time": "2025-03-21T17:08:20.134Z"
   },
   {
    "duration": 10,
    "start_time": "2025-03-21T17:08:20.139Z"
   },
   {
    "duration": 1876,
    "start_time": "2025-03-21T17:08:20.151Z"
   },
   {
    "duration": 371,
    "start_time": "2025-03-21T17:08:22.029Z"
   },
   {
    "duration": 4,
    "start_time": "2025-03-21T17:08:22.401Z"
   },
   {
    "duration": 9,
    "start_time": "2025-03-21T17:08:22.407Z"
   },
   {
    "duration": 15,
    "start_time": "2025-03-21T17:08:22.418Z"
   },
   {
    "duration": 13,
    "start_time": "2025-03-21T17:08:22.437Z"
   },
   {
    "duration": 5,
    "start_time": "2025-03-21T17:08:22.453Z"
   },
   {
    "duration": 18,
    "start_time": "2025-03-21T17:08:22.460Z"
   },
   {
    "duration": 7,
    "start_time": "2025-03-21T17:08:22.480Z"
   },
   {
    "duration": 16,
    "start_time": "2025-03-21T17:08:22.489Z"
   },
   {
    "duration": 8,
    "start_time": "2025-03-21T17:08:22.507Z"
   },
   {
    "duration": 13,
    "start_time": "2025-03-21T17:08:22.517Z"
   },
   {
    "duration": 75,
    "start_time": "2025-03-21T17:08:22.532Z"
   },
   {
    "duration": 8,
    "start_time": "2025-03-21T17:08:22.609Z"
   },
   {
    "duration": 1119,
    "start_time": "2025-03-21T17:08:22.619Z"
   },
   {
    "duration": 176,
    "start_time": "2025-03-21T17:08:23.739Z"
   },
   {
    "duration": 136,
    "start_time": "2025-03-21T17:08:23.916Z"
   },
   {
    "duration": 6,
    "start_time": "2025-03-21T17:40:22.482Z"
   },
   {
    "duration": 14,
    "start_time": "2025-03-21T17:41:24.135Z"
   },
   {
    "duration": 5,
    "start_time": "2025-03-21T17:45:18.994Z"
   },
   {
    "duration": 7,
    "start_time": "2025-03-21T17:45:34.758Z"
   },
   {
    "duration": 4,
    "start_time": "2025-03-21T17:46:58.982Z"
   },
   {
    "duration": 4,
    "start_time": "2025-03-21T17:47:25.391Z"
   },
   {
    "duration": 10,
    "start_time": "2025-03-21T17:53:21.539Z"
   },
   {
    "duration": 5,
    "start_time": "2025-03-21T17:53:33.955Z"
   },
   {
    "duration": 5,
    "start_time": "2025-03-21T17:54:02.986Z"
   },
   {
    "duration": 3,
    "start_time": "2025-03-21T17:54:34.680Z"
   },
   {
    "duration": 13,
    "start_time": "2025-03-21T17:55:07.271Z"
   },
   {
    "duration": 14,
    "start_time": "2025-03-21T17:56:16.139Z"
   },
   {
    "duration": 11,
    "start_time": "2025-03-21T18:02:07.933Z"
   },
   {
    "duration": 6,
    "start_time": "2025-03-21T18:09:15.079Z"
   },
   {
    "duration": 3,
    "start_time": "2025-03-21T18:09:24.759Z"
   },
   {
    "duration": 905,
    "start_time": "2025-03-21T18:09:29.749Z"
   },
   {
    "duration": 34,
    "start_time": "2025-03-21T18:11:52.533Z"
   },
   {
    "duration": 3,
    "start_time": "2025-03-21T18:12:55.281Z"
   },
   {
    "duration": 22,
    "start_time": "2025-03-21T18:13:02.864Z"
   },
   {
    "duration": 4,
    "start_time": "2025-03-21T18:15:44.227Z"
   },
   {
    "duration": 4,
    "start_time": "2025-03-21T18:15:48.875Z"
   },
   {
    "duration": 4,
    "start_time": "2025-03-21T18:17:46.155Z"
   },
   {
    "duration": 4,
    "start_time": "2025-03-21T18:17:52.331Z"
   },
   {
    "duration": 5,
    "start_time": "2025-03-21T18:18:27.357Z"
   },
   {
    "duration": 20,
    "start_time": "2025-03-21T18:20:13.834Z"
   },
   {
    "duration": 3,
    "start_time": "2025-03-21T18:21:02.470Z"
   },
   {
    "duration": 14,
    "start_time": "2025-03-21T18:21:03.341Z"
   },
   {
    "duration": 3,
    "start_time": "2025-03-21T18:23:00.091Z"
   },
   {
    "duration": 3,
    "start_time": "2025-03-21T18:24:13.474Z"
   },
   {
    "duration": 533,
    "start_time": "2025-03-21T18:34:33.192Z"
   },
   {
    "duration": 30,
    "start_time": "2025-03-21T18:36:02.630Z"
   },
   {
    "duration": 82,
    "start_time": "2025-03-21T18:36:12.795Z"
   },
   {
    "duration": 3,
    "start_time": "2025-03-21T18:37:14.396Z"
   },
   {
    "duration": 46,
    "start_time": "2025-03-21T18:37:21.480Z"
   },
   {
    "duration": 7,
    "start_time": "2025-03-21T18:38:02.793Z"
   },
   {
    "duration": 2,
    "start_time": "2025-03-21T18:38:02.802Z"
   },
   {
    "duration": 3,
    "start_time": "2025-03-21T18:38:02.809Z"
   },
   {
    "duration": 6,
    "start_time": "2025-03-21T18:38:02.814Z"
   },
   {
    "duration": 4,
    "start_time": "2025-03-21T18:38:02.825Z"
   },
   {
    "duration": 4,
    "start_time": "2025-03-21T18:38:02.836Z"
   },
   {
    "duration": 8,
    "start_time": "2025-03-21T18:38:02.841Z"
   },
   {
    "duration": 9,
    "start_time": "2025-03-21T18:38:02.850Z"
   },
   {
    "duration": 6,
    "start_time": "2025-03-21T18:38:02.861Z"
   },
   {
    "duration": 8,
    "start_time": "2025-03-21T18:38:02.870Z"
   },
   {
    "duration": 3,
    "start_time": "2025-03-21T18:38:02.879Z"
   },
   {
    "duration": 14,
    "start_time": "2025-03-21T18:38:02.884Z"
   },
   {
    "duration": 12,
    "start_time": "2025-03-21T18:38:02.906Z"
   },
   {
    "duration": 16,
    "start_time": "2025-03-21T18:38:02.919Z"
   },
   {
    "duration": 21,
    "start_time": "2025-03-21T18:38:02.940Z"
   },
   {
    "duration": 16,
    "start_time": "2025-03-21T18:38:02.965Z"
   },
   {
    "duration": 16,
    "start_time": "2025-03-21T18:38:02.982Z"
   },
   {
    "duration": 15,
    "start_time": "2025-03-21T18:38:03.001Z"
   },
   {
    "duration": 8,
    "start_time": "2025-03-21T18:38:03.023Z"
   },
   {
    "duration": 8,
    "start_time": "2025-03-21T18:38:03.036Z"
   },
   {
    "duration": 4,
    "start_time": "2025-03-21T18:38:03.048Z"
   },
   {
    "duration": 19,
    "start_time": "2025-03-21T18:38:03.054Z"
   },
   {
    "duration": 7,
    "start_time": "2025-03-21T18:38:03.075Z"
   },
   {
    "duration": 1147,
    "start_time": "2025-03-21T18:38:03.083Z"
   },
   {
    "duration": 200,
    "start_time": "2025-03-21T18:38:04.231Z"
   },
   {
    "duration": 135,
    "start_time": "2025-03-21T18:38:04.433Z"
   },
   {
    "duration": 8,
    "start_time": "2025-03-21T18:38:04.570Z"
   },
   {
    "duration": 4,
    "start_time": "2025-03-21T18:38:04.582Z"
   },
   {
    "duration": 22,
    "start_time": "2025-03-21T18:38:04.587Z"
   },
   {
    "duration": 7,
    "start_time": "2025-03-21T18:38:04.610Z"
   },
   {
    "duration": 55,
    "start_time": "2025-03-21T18:38:04.621Z"
   },
   {
    "duration": 6,
    "start_time": "2025-03-21T18:38:48.886Z"
   },
   {
    "duration": 12,
    "start_time": "2025-03-21T18:38:58.410Z"
   },
   {
    "duration": 5,
    "start_time": "2025-03-21T18:49:18.640Z"
   },
   {
    "duration": 5,
    "start_time": "2025-03-21T18:50:05.942Z"
   },
   {
    "duration": 343,
    "start_time": "2025-03-21T19:18:32.977Z"
   },
   {
    "duration": 2,
    "start_time": "2025-03-21T19:18:33.322Z"
   },
   {
    "duration": 12,
    "start_time": "2025-03-21T19:18:33.326Z"
   },
   {
    "duration": 4,
    "start_time": "2025-03-21T19:18:33.341Z"
   },
   {
    "duration": 1999,
    "start_time": "2025-03-21T19:18:33.348Z"
   },
   {
    "duration": 378,
    "start_time": "2025-03-21T19:18:35.349Z"
   },
   {
    "duration": 3,
    "start_time": "2025-03-21T19:18:35.728Z"
   },
   {
    "duration": 9,
    "start_time": "2025-03-21T19:18:35.733Z"
   },
   {
    "duration": 6,
    "start_time": "2025-03-21T19:18:35.744Z"
   },
   {
    "duration": 18,
    "start_time": "2025-03-21T19:18:35.752Z"
   },
   {
    "duration": 3,
    "start_time": "2025-03-21T19:18:35.771Z"
   },
   {
    "duration": 24,
    "start_time": "2025-03-21T19:18:35.776Z"
   },
   {
    "duration": 8,
    "start_time": "2025-03-21T19:18:35.802Z"
   },
   {
    "duration": 4,
    "start_time": "2025-03-21T19:18:35.813Z"
   },
   {
    "duration": 8,
    "start_time": "2025-03-21T19:18:35.818Z"
   },
   {
    "duration": 14,
    "start_time": "2025-03-21T19:18:35.827Z"
   },
   {
    "duration": 13,
    "start_time": "2025-03-21T19:18:35.844Z"
   },
   {
    "duration": 4,
    "start_time": "2025-03-21T19:18:35.887Z"
   },
   {
    "duration": 5,
    "start_time": "2025-03-21T19:18:35.892Z"
   },
   {
    "duration": 6,
    "start_time": "2025-03-21T19:18:35.898Z"
   },
   {
    "duration": 3,
    "start_time": "2025-03-21T19:18:35.906Z"
   },
   {
    "duration": 14,
    "start_time": "2025-03-21T19:18:35.911Z"
   },
   {
    "duration": 6,
    "start_time": "2025-03-21T19:18:35.926Z"
   },
   {
    "duration": 1154,
    "start_time": "2025-03-21T19:18:35.933Z"
   },
   {
    "duration": 225,
    "start_time": "2025-03-21T19:18:37.089Z"
   },
   {
    "duration": 136,
    "start_time": "2025-03-21T19:18:37.316Z"
   },
   {
    "duration": 9,
    "start_time": "2025-03-21T19:18:37.454Z"
   },
   {
    "duration": 22,
    "start_time": "2025-03-21T19:18:37.465Z"
   },
   {
    "duration": 3,
    "start_time": "2025-03-21T19:18:37.489Z"
   },
   {
    "duration": 4,
    "start_time": "2025-03-21T19:18:37.494Z"
   },
   {
    "duration": 4,
    "start_time": "2025-03-21T19:18:37.501Z"
   }
  ],
  "kernelspec": {
   "display_name": "Python 3 (ipykernel)",
   "language": "python",
   "name": "python3"
  },
  "language_info": {
   "codemirror_mode": {
    "name": "ipython",
    "version": 3
   },
   "file_extension": ".py",
   "mimetype": "text/x-python",
   "name": "python",
   "nbconvert_exporter": "python",
   "pygments_lexer": "ipython3",
   "version": "3.12.4"
  },
  "toc": {
   "base_numbering": 1,
   "nav_menu": {},
   "number_sections": true,
   "sideBar": true,
   "skip_h1_title": true,
   "title_cell": "Table of Contents",
   "title_sidebar": "Contents",
   "toc_cell": false,
   "toc_position": {},
   "toc_section_display": true,
   "toc_window_display": false
  }
 },
 "nbformat": 4,
 "nbformat_minor": 4
}
